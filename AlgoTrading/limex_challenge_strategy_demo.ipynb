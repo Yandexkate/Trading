{
  "nbformat": 4,
  "nbformat_minor": 0,
  "metadata": {
    "colab": {
      "provenance": []
    },
    "kernelspec": {
      "name": "python3",
      "display_name": "Python 3"
    },
    "language_info": {
      "name": "python"
    }
  },
  "cells": [
    {
      "cell_type": "markdown",
      "source": [
        "# Limex Challenge - API Trading Demonstration\n",
        "## SMA Crossover Trading Bot Example Using Lime Trading API\n",
        "\n",
        "This notebook demonstrates a **Simple Moving Average (SMA) Crossover Trading Bot** using the **Lime Trading API**. The steps below outline the systematic process to automate the strategy. Users are encouraged to bring in their own strategy logic and integrate market data from their preferred vendor. This bot can also be run on a local machine, as the free version of Google Colab doesn't run continuously and may disconnect after a period of inactivity.\n",
        "\n",
        "1. **Authenticate** with Lime Authentication service to obtain an Access Token.\n",
        "2. **Fetch price data** for a chosen symbol (e.g., `AAPL`), using built-in Lime Datafeed.\n",
        "3. **Calculate the 10-period and 30-period Simple Moving Averages (SMA)**.\n",
        "4. **Apply crossover logic**:\n",
        "   - Go **long** when the 10MA crosses **above** the 30MA.\n",
        "   - **Exit any position** when the 10MA crosses **below** the 30MA.\n",
        "5. **Automatically place orders** via the Lime Trading API whenever crossovers occur.\n",
        "6. **Repeat every 5 minutes** to continuously check for new trading signals.\n",
        "\n",
        "For further information about Limex Challenge competition and full API documentation, please visit:  \n",
        "\n",
        "🔗 [Limex Challenge](https://challenges.limex.com/)\n",
        "\n",
        "🔗 [Lime Trading API Documentation](https://docs.lime.co/trader/)\n",
        "\n",
        "🔗 [Limex Challenge Discord Group](https://discord.com/invite/DgBEgX5J)\n",
        "\n",
        "🔗 [Limex Challenge Rules & FAQs](https://www.promo.limex.com/faqchallenges?utm_source=email&utm_medium=d_outreach&utm_campaign=promo)"
      ],
      "metadata": {
        "id": "XK8fXnwW02ne"
      }
    },
    {
      "cell_type": "markdown",
      "source": [
        "# Connecting to Lime Trading API"
      ],
      "metadata": {
        "id": "UXXtWgqDcHCX"
      }
    },
    {
      "cell_type": "markdown",
      "source": [
        "Import necessary libraries"
      ],
      "metadata": {
        "id": "SPEcBQxP2jP9"
      }
    },
    {
      "cell_type": "code",
      "execution_count": null,
      "metadata": {
        "id": "IluH_NlLsqjp"
      },
      "outputs": [],
      "source": [
        "import requests, json\n",
        "import pandas as pd\n",
        "import time\n",
        "from datetime import datetime"
      ]
    },
    {
      "cell_type": "markdown",
      "source": [
        "Input your credentials here"
      ],
      "metadata": {
        "id": "5MaovAqKvt6i"
      }
    },
    {
      "cell_type": "code",
      "source": [
        "# Config - Replace with your credentials\n",
        "CLIENT_ID = 'your_client_id'\n",
        "CLIENT_SECRET = 'your_client_secret'\n",
        "USERNAME = 'your_username'\n",
        "PASSWORD = 'your_password'\n",
        "ACCOUNT_NUMBER = \"dmo-c001@demo\" #your user ID + @demo, eg: dmo-c001 + @demo\n",
        "\n",
        "# Endpoints\n",
        "AUTH_URL = 'https://auth.lime.co/connect/token'\n",
        "BALANCE_URL = 'https://api.lime.co/accounts'\n",
        "ORDER_URL = 'https://api.lime.co/orders/place'\n",
        "PRICE_HIST_URL = 'https://api.lime.co/marketdata/history'"
      ],
      "metadata": {
        "id": "SsBCjW_Gs1Mi"
      },
      "execution_count": null,
      "outputs": []
    },
    {
      "cell_type": "markdown",
      "source": [
        "### Basic API functions"
      ],
      "metadata": {
        "id": "i-CFYHXvv0c9"
      }
    },
    {
      "cell_type": "code",
      "source": [
        "# Get Access Token\n",
        "def get_access_token():\n",
        "    headers = {\n",
        "        'Accept': 'application/json',\n",
        "        'Content-Type': 'application/x-www-form-urlencoded'\n",
        "    }\n",
        "\n",
        "    data = {\n",
        "        'grant_type': 'password',\n",
        "        'client_id': CLIENT_ID,\n",
        "        'client_secret': CLIENT_SECRET,\n",
        "        'username': USERNAME,\n",
        "        'password': PASSWORD\n",
        "    }\n",
        "\n",
        "    response = requests.post(AUTH_URL, headers=headers, data=data)\n",
        "\n",
        "    if response.status_code == 200:\n",
        "        token_data = response.json()\n",
        "        return token_data['access_token']\n",
        "    else:\n",
        "        raise Exception(f\"Failed to get token: {response.status_code}, {response.text}\")\n",
        "\n",
        "# Fetch OHLC Data by ticker symbol\n",
        "def fetch_price_data(symbol, access_token):\n",
        "    headers = {\n",
        "        'Accept': 'application/json',\n",
        "        'Authorization': f'Bearer {access_token}'\n",
        "    }\n",
        "\n",
        "    # Calculate UNIX timestamps for the last 3 days (needed for 'from' and 'to')\n",
        "    now = int(time.time())\n",
        "    from_time = now - (3 * 24 * 60 * 60)  # In this example - 3 days in seconds\n",
        "\n",
        "    params = {\n",
        "        'symbol': symbol,\n",
        "        'period': 'minute_5',  # The supported periods are: minute, minute_5, minute_15, minute_30, hour, day, week, month, quarter, year\n",
        "        'from': from_time,\n",
        "        'to': now\n",
        "    }\n",
        "\n",
        "    response = requests.get(PRICE_HIST_URL, headers=headers, params=params)\n",
        "\n",
        "    if response.status_code != 200:\n",
        "        raise Exception(f\"Failed to fetch price data: {response.status_code}, {response.text}\")\n",
        "\n",
        "    candles = response.json()\n",
        "\n",
        "    # Convert candle data to a DataFrame for easy processing\n",
        "    df = pd.DataFrame(candles)\n",
        "    df.drop(columns=['period'], inplace=True) # clean up and show only OHLC data\n",
        "\n",
        "    # Convert Unix timestamp to datetime\n",
        "    df['timestamp'] = pd.to_datetime(df['timestamp'], unit='s')\n",
        "    df.set_index('timestamp', inplace=True)\n",
        "\n",
        "    return df\n",
        "\n",
        "# Place an Order\n",
        "def place_order(access_token, order_payload):\n",
        "    headers = {\n",
        "        'Accept': 'application/json',\n",
        "        'Content-Type': 'application/json',\n",
        "        'Authorization': f'Bearer {access_token}'\n",
        "    }\n",
        "\n",
        "    response = requests.post(ORDER_URL, headers=headers, json=order_payload)\n",
        "\n",
        "    if response.status_code == 200:\n",
        "        print(\"Order placed successfully:\")\n",
        "        print(response.json())\n",
        "    else:\n",
        "        raise Exception(f\"Failed to place order: {response.status_code}, {response.text}\")\n",
        "\n",
        "# Get Account Balances\n",
        "def get_account_balances(access_token):\n",
        "    headers = {\n",
        "        'Accept': 'application/json',\n",
        "        'Authorization': f'Bearer {access_token}'\n",
        "    }\n",
        "\n",
        "    response = requests.get(BALANCE_URL, headers=headers)\n",
        "\n",
        "    if response.status_code == 200:\n",
        "        accounts = response.json()\n",
        "        print(\"Accounts and Balances:\")\n",
        "        print(json.dumps(accounts, indent=2))\n",
        "        return accounts\n",
        "    else:\n",
        "        raise Exception(f\"Failed to fetch balances: {response.status_code}, {response.text}\")\n",
        "\n"
      ],
      "metadata": {
        "id": "v5jSzsVRs1Ji"
      },
      "execution_count": null,
      "outputs": []
    },
    {
      "cell_type": "markdown",
      "source": [
        "### Check on Connectivity and get Account Balances"
      ],
      "metadata": {
        "id": "X24XfeQDwHju"
      }
    },
    {
      "cell_type": "code",
      "source": [
        "try:\n",
        "    token = get_access_token()\n",
        "    print(f\"✅ Successfully connected to the Limex API server. \\n\\nAccess Token: {token[:15]}...\")  # Quick check of first part of token\n",
        "\n",
        "    get_account_balances(token)\n",
        "\n",
        "except Exception as e:\n",
        "    print(\"Error:\", str(e))"
      ],
      "metadata": {
        "id": "DRdnCvpis1GJ"
      },
      "execution_count": null,
      "outputs": []
    },
    {
      "cell_type": "markdown",
      "source": [
        "# Strategy Logic"
      ],
      "metadata": {
        "id": "mn7hCX8rdq8e"
      }
    },
    {
      "cell_type": "markdown",
      "source": [
        "### Fetching market data"
      ],
      "metadata": {
        "id": "vcDrNKQHzDDh"
      }
    },
    {
      "cell_type": "code",
      "source": [
        "# Function to fetch OHLC data and add SMA calculations to the dataframe\n",
        "def fetch_current_data(symbol, access_token):\n",
        "    df = fetch_price_data(symbol, access_token) # 5-min OHLC data\n",
        "    df['10MA'] = df['close'].rolling(window=10).mean()\n",
        "    df['30MA'] = df['close'].rolling(window=30).mean()\n",
        "    return df"
      ],
      "metadata": {
        "id": "wD9EZgS8dqXx"
      },
      "execution_count": null,
      "outputs": []
    },
    {
      "cell_type": "markdown",
      "source": [
        "### Strategy logic"
      ],
      "metadata": {
        "id": "0TIqthLmzORD"
      }
    },
    {
      "cell_type": "code",
      "source": [
        "def check_crossover(df):\n",
        "    if len(df) < 32:\n",
        "        return None  # Check to see if there're enough data\n",
        "\n",
        "    latest = df.iloc[-1] #latest 'completed' bar\n",
        "    prev = df.iloc[-2]\n",
        "\n",
        "    # Long signal - 10MA crosses above 30MA\n",
        "    if prev['10MA'] <= prev['30MA'] and latest['10MA'] > latest['30MA']:\n",
        "        return \"buy\"\n",
        "\n",
        "    # Exit signal - 10MA crosses below 30MA\n",
        "    if prev['10MA'] >= prev['30MA'] and latest['10MA'] < latest['30MA']:\n",
        "        return \"sell\"\n",
        "\n",
        "    return None\n",
        "\n",
        "def execute_trade(access_token, side):\n",
        "    order_payload = {\n",
        "        \"account_number\": ACCOUNT_NUMBER,\n",
        "        \"symbol\": SYMBOL,\n",
        "        \"quantity\": 1,\n",
        "        #\"price\": 250.00, #price only for limit order\n",
        "        \"time_in_force\": \"day\",\n",
        "        \"order_type\": \"market\",\n",
        "        \"side\": side,\n",
        "        \"exchange\": \"auto\"\n",
        "    }\n",
        "    place_order(access_token, order_payload)"
      ],
      "metadata": {
        "id": "zItt1-bkdqbC"
      },
      "execution_count": null,
      "outputs": []
    },
    {
      "cell_type": "markdown",
      "source": [
        "# Trading Loop (Run this to start the bot)\n",
        "You can run this loop right after new 5-minute data becomes available on your datafeed. The bot will then recalculate signals every 5 minutes. If needed, you could develop the logic further to **trigger at more precise times,** and to automatically shut down once the market closes.\n",
        "\n",
        "It is recommended to add additional safeguards, such as **automatic checks** for current holdings and position sizes, along with a **kill switch** or similar risk controls to prevent unintended trades."
      ],
      "metadata": {
        "id": "PBxUgUrBhiGF"
      }
    },
    {
      "cell_type": "code",
      "source": [
        "SYMBOL = \"AAPL\"\n",
        "token = get_access_token()\n",
        "\n",
        "last_signal = None  # Track the last trade signal to avoid repeat orders.\n",
        "                    # Take extra care when restarting this bot\n",
        "                    # - Set to None for a fresh start (no positions assumed).\n",
        "                    # - Set to 'buy' if your account currently holds a long position for this strategy.\n",
        "\n",
        "# Re-run the logic every 5 minutes to detect new trade signals (SMA crossover)\n",
        "while True:\n",
        "    current_time = datetime.now().strftime('%Y-%m-%d %H:%M:%S')\n",
        "    print(f\"[{current_time}] 🔄 Fetching latest market data...\")\n",
        "\n",
        "    df = fetch_current_data(SYMBOL, token)\n",
        "    signal = check_crossover(df)\n",
        "    if signal and signal != last_signal:\n",
        "        print(f\"New signal detected: {signal}\")\n",
        "        execute_trade(token, signal)\n",
        "        last_signal = signal\n",
        "\n",
        "    time.sleep(5 * 60) # 5 minutes in seconds"
      ],
      "metadata": {
        "id": "Fy-78ujMdqSB"
      },
      "execution_count": null,
      "outputs": []
    }
  ]
}