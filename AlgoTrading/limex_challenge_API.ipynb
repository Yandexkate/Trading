{
  "nbformat": 4,
  "nbformat_minor": 0,
  "metadata": {
    "colab": {
      "provenance": []
    },
    "kernelspec": {
      "name": "python3",
      "display_name": "Python 3"
    },
    "language_info": {
      "name": "python"
    }
  },
  "cells": [
    {
      "cell_type": "markdown",
      "source": [
        "# Limex Challenge - Quick Start Guide for Lime Trading API\n",
        "\n",
        "This notebook demonstrates the **Lime Trading API**\n",
        "\n",
        "For further information about Limex Challenge competition and full API documentation, please visit:  \n",
        "\n",
        "🔗 [Limex Challenge](https://challenges.limex.com/)\n",
        "\n",
        "🔗 [Lime Trading API Documentation](https://docs.lime.co/trader/)\n",
        "\n",
        "🔗 [Limex Challenge Discord Group](https://discord.com/invite/DgBEgX5J)\n",
        "\n",
        "🔗 [Limex Challenge Rules & FAQs](https://www.promo.limex.com/faqchallenges?utm_source=email&utm_medium=d_outreach&utm_campaign=promo)"
      ],
      "metadata": {
        "id": "k7mfGTpoZbH_"
      }
    },
    {
      "cell_type": "code",
      "execution_count": null,
      "metadata": {
        "id": "IluH_NlLsqjp"
      },
      "outputs": [],
      "source": [
        "import requests\n",
        "import json\n",
        "import time\n",
        "import pandas as pd"
      ]
    },
    {
      "cell_type": "markdown",
      "source": [
        "Input your credentials"
      ],
      "metadata": {
        "id": "5MaovAqKvt6i"
      }
    },
    {
      "cell_type": "code",
      "source": [
        "# Config - Replace with your credentials\n",
        "CLIENT_ID = 'your_client_id'\n",
        "CLIENT_SECRET = 'your_client_secret'\n",
        "USERNAME = 'your_username'\n",
        "PASSWORD = 'your_password'\n",
        "ACCOUNT_NUMBER = \"dmo-c001@demo\" #your user ID + @demo, eg: dmo-c001 + @demo\n",
        "\n",
        "# Endpoints\n",
        "AUTH_URL = 'https://auth.lime.co/connect/token'\n",
        "BALANCE_URL = 'https://api.lime.co/accounts'\n",
        "ORDER_URL = 'https://api.lime.co/orders/place'\n",
        "PRICE_HIST_URL = 'https://api.lime.co/marketdata/history'"
      ],
      "metadata": {
        "id": "SsBCjW_Gs1Mi"
      },
      "execution_count": null,
      "outputs": []
    },
    {
      "cell_type": "markdown",
      "source": [
        "Basic API functions"
      ],
      "metadata": {
        "id": "i-CFYHXvv0c9"
      }
    },
    {
      "cell_type": "code",
      "source": [
        "# Get Access Token\n",
        "def get_access_token():\n",
        "    headers = {\n",
        "        'Accept': 'application/json',\n",
        "        'Content-Type': 'application/x-www-form-urlencoded'\n",
        "    }\n",
        "\n",
        "    data = {\n",
        "        'grant_type': 'password',\n",
        "        'client_id': CLIENT_ID,\n",
        "        'client_secret': CLIENT_SECRET,\n",
        "        'username': USERNAME,\n",
        "        'password': PASSWORD\n",
        "    }\n",
        "\n",
        "    response = requests.post(AUTH_URL, headers=headers, data=data)\n",
        "\n",
        "    if response.status_code == 200:\n",
        "        token_data = response.json()\n",
        "        return token_data['access_token']\n",
        "    else:\n",
        "        raise Exception(f\"Failed to get token: {response.status_code}, {response.text}\")\n",
        "\n",
        "# Fetch OHLC Data by ticker symbol\n",
        "def fetch_price_data(symbol, access_token):\n",
        "    headers = {\n",
        "        'Accept': 'application/json',\n",
        "        'Authorization': f'Bearer {access_token}'\n",
        "    }\n",
        "\n",
        "    # Calculate UNIX timestamps for the last 3 days (needed for 'from' and 'to')\n",
        "    now = int(time.time())\n",
        "    from_time = now - (3 * 24 * 60 * 60)  # In this example - 3 days in seconds\n",
        "\n",
        "    params = {\n",
        "        'symbol': symbol,\n",
        "        'period': 'minute_15',  # The supported periods are: minute, minute_5, minute_15, minute_30, hour, day, week, month, quarter, year\n",
        "        'from': from_time,\n",
        "        'to': now\n",
        "    }\n",
        "\n",
        "    response = requests.get(PRICE_HIST_URL, headers=headers, params=params)\n",
        "\n",
        "    if response.status_code != 200:\n",
        "        raise Exception(f\"Failed to fetch price data: {response.status_code}, {response.text}\")\n",
        "\n",
        "    candles = response.json()\n",
        "\n",
        "    # Convert candle data to a DataFrame for easy processing\n",
        "    df = pd.DataFrame(candles)\n",
        "    df.drop(columns=['period'], inplace=True) # clean up and show only OHLC data\n",
        "\n",
        "    # Convert Unix timestamp to datetime\n",
        "    df['timestamp'] = pd.to_datetime(df['timestamp'], unit='s')\n",
        "    df.set_index('timestamp', inplace=True)\n",
        "\n",
        "    return df\n",
        "\n",
        "# Place an Order\n",
        "def place_order(access_token, order_payload):\n",
        "    headers = {\n",
        "        'Accept': 'application/json',\n",
        "        'Content-Type': 'application/json',\n",
        "        'Authorization': f'Bearer {access_token}'\n",
        "    }\n",
        "\n",
        "    response = requests.post(ORDER_URL, headers=headers, json=order_payload)\n",
        "\n",
        "    if response.status_code == 200:\n",
        "        print(\"Order placed successfully:\")\n",
        "        print(response.json())\n",
        "    else:\n",
        "        raise Exception(f\"Failed to place order: {response.status_code}, {response.text}\")\n",
        "\n",
        "# Get Account Balances\n",
        "def get_account_balances(access_token):\n",
        "    headers = {\n",
        "        'Accept': 'application/json',\n",
        "        'Authorization': f'Bearer {access_token}'\n",
        "    }\n",
        "\n",
        "    response = requests.get(BALANCE_URL, headers=headers)\n",
        "\n",
        "    if response.status_code == 200:\n",
        "        accounts = response.json()\n",
        "        print(\"Accounts and Balances:\")\n",
        "        print(json.dumps(accounts, indent=2))\n",
        "        return accounts\n",
        "    else:\n",
        "        raise Exception(f\"Failed to fetch balances: {response.status_code}, {response.text}\")\n",
        "\n"
      ],
      "metadata": {
        "id": "v5jSzsVRs1Ji"
      },
      "execution_count": null,
      "outputs": []
    },
    {
      "cell_type": "markdown",
      "source": [
        "Get Account Balances and check on Connectivity"
      ],
      "metadata": {
        "id": "X24XfeQDwHju"
      }
    },
    {
      "cell_type": "code",
      "source": [
        "try:\n",
        "    token = get_access_token()\n",
        "    print(f\"✅ Successfully connected to the Limex API server. \\n\\nAccess Token: {token[:15]}...\")  # Quick check of first part of token\n",
        "\n",
        "    get_account_balances(token)\n",
        "\n",
        "except Exception as e:\n",
        "    print(\"Error:\", str(e))"
      ],
      "metadata": {
        "id": "DRdnCvpis1GJ"
      },
      "execution_count": null,
      "outputs": []
    },
    {
      "cell_type": "markdown",
      "source": [
        "Fetch Historical Stock data - 3 days OHLC price of `AAPL`"
      ],
      "metadata": {
        "id": "MktBE9g1xJp4"
      }
    },
    {
      "cell_type": "code",
      "source": [
        "data = fetch_price_data('AAPL', token)\n",
        "data.tail(10)"
      ],
      "metadata": {
        "id": "Fe1yXgrHxKOk"
      },
      "execution_count": null,
      "outputs": []
    },
    {
      "cell_type": "markdown",
      "source": [
        "Place a Test Order\n",
        "\n",
        "- Once you have successfully placed the order, please check it on the demo account to ensure it has been processed correctly."
      ],
      "metadata": {
        "id": "mgADJRUKwQ23"
      }
    },
    {
      "cell_type": "code",
      "source": [
        "# Fill in the Order Details below\n",
        "order_payload = {\n",
        "    \"account_number\": ACCOUNT_NUMBER,\n",
        "    \"symbol\": \"AAPL\",\n",
        "    \"quantity\": 1,\n",
        "    #\"price\": 250.00, #price only for limit order\n",
        "    \"time_in_force\": \"day\",\n",
        "    \"order_type\": \"market\",\n",
        "    \"side\": \"buy\",\n",
        "    \"exchange\": \"auto\",\n",
        "}\n",
        "\n",
        "try:\n",
        "    token = get_access_token()\n",
        "    print(f\"Access Token: {token[:15]}...\")  # Quick check of first part of token\n",
        "\n",
        "    # Place an order\n",
        "    place_order(token, order_payload)\n",
        "\n",
        "except Exception as e:\n",
        "    print(\"Error:\", str(e))"
      ],
      "metadata": {
        "id": "QlB7ByIJs1AO"
      },
      "execution_count": null,
      "outputs": []
    }
  ]
}