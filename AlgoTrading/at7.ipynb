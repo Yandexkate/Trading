{
  "cells": [
    {
      "cell_type": "markdown",
      "id": "872254a7-d7b4-4a11-bfb6-19861a36c9b8",
      "metadata": {
        "id": "872254a7-d7b4-4a11-bfb6-19861a36c9b8"
      },
      "source": [
        "Simple stat-arb example"
      ]
    },
    {
      "cell_type": "code",
      "execution_count": null,
      "id": "830afd55-eef6-4bdc-bbb6-e9ab96a85ef4",
      "metadata": {
        "id": "830afd55-eef6-4bdc-bbb6-e9ab96a85ef4"
      },
      "outputs": [],
      "source": [
        "import pandas as pd\n",
        "import numpy as np\n",
        "import matplotlib.pyplot as plt\n",
        "import datetime\n",
        "import optuna\n",
        "optuna.logging.set_verbosity(optuna.logging.WARNING)\n",
        "import yfinance as yf"
      ]
    },
    {
      "cell_type": "markdown",
      "source": [
        "Reading data from Yahoo Finance:"
      ],
      "metadata": {
        "id": "v8zg5aT2pV5I"
      },
      "id": "v8zg5aT2pV5I"
    },
    {
      "cell_type": "code",
      "execution_count": null,
      "id": "24307359-aa8c-4897-93fc-c82fd9ff89cc",
      "metadata": {
        "id": "24307359-aa8c-4897-93fc-c82fd9ff89cc"
      },
      "outputs": [],
      "source": [
        "def read_stock_data(ticker):\n",
        "\n",
        "    data = yf.download(ticker, start = '2010-01-01', end = '2024-08-01')\n",
        "\n",
        "    data['log_ret'] = np.log(data['Close']).diff()\n",
        "\n",
        "    return pd.DataFrame(data['log_ret'].dropna())"
      ]
    },
    {
      "cell_type": "code",
      "execution_count": null,
      "id": "d60e6164-8db8-42af-9f61-cec9722167f0",
      "metadata": {
        "id": "d60e6164-8db8-42af-9f61-cec9722167f0"
      },
      "outputs": [],
      "source": [
        "data1 = read_stock_data('V')\n",
        "data2 = read_stock_data('MA')"
      ]
    },
    {
      "cell_type": "markdown",
      "id": "c7bb452d-700c-4f55-9b29-8b651e252eb2",
      "metadata": {
        "id": "c7bb452d-700c-4f55-9b29-8b651e252eb2"
      },
      "source": [
        "Functions for calculating standard statistics on the daily equity curve:"
      ]
    },
    {
      "cell_type": "code",
      "execution_count": null,
      "id": "e1158fcd-78d5-48e4-bf98-bdc81bcf0c54",
      "metadata": {
        "id": "e1158fcd-78d5-48e4-bf98-bdc81bcf0c54"
      },
      "outputs": [],
      "source": [
        "days_in_year = 252\n",
        "\n",
        "def Return(rets):\n",
        "    \"\"\"\n",
        "    Annual return estimate\n",
        "\n",
        "    :rets: daily returns of the strategy\n",
        "    \"\"\"\n",
        "    return np.mean(rets)*days_in_year\n",
        "\n",
        "\n",
        "def Volatility(rets):\n",
        "    \"\"\"\n",
        "    Estimation of annual volatility\n",
        "\n",
        "    :rets: daily returns of the strategy\n",
        "    \"\"\"\n",
        "    return np.std(rets)*np.sqrt(days_in_year)\n",
        "\n",
        "\n",
        "def SharpeRatio(rets):\n",
        "    \"\"\"\n",
        "    Estimating the annual Sharpe ratio\n",
        "\n",
        "    :rets: daily returns of the strategy\n",
        "    \"\"\"\n",
        "    volatility = Volatility(rets)\n",
        "    if (volatility>0):\n",
        "        return Return(rets)/volatility\n",
        "    else:\n",
        "        return float('NaN')\n",
        "\n",
        "def statistics_calc(rets, bh, name = '_', plot = False):\n",
        "    \"\"\"\n",
        "    Draws a graph of portfolio equity and calculates annual Sharpe ratios, profitability and volatility\n",
        "\n",
        "    :rets: daily returns of the strategy\n",
        "    \"\"\"\n",
        "    sharpe = SharpeRatio(rets)\n",
        "    ret = Return(rets)\n",
        "    vol = Volatility(rets)\n",
        "    if plot:\n",
        "        plt.plot(rets.cumsum(), label = 'strategy')\n",
        "        plt.plot(bh.cumsum(), label = 'buy & hold')\n",
        "        plt.xlabel('t')\n",
        "        plt.legend()\n",
        "        print('Sharpe ratio = %0.2f'%sharpe)\n",
        "        print('Annual Return = %0.2f'%ret)\n",
        "        print('Annual Std = %0.2f'%vol)\n",
        "    return  pd.DataFrame([[sharpe, ret, vol]], columns = ['Sharpe ratio', 'Annual return', 'Volatility'], index = [name])"
      ]
    },
    {
      "cell_type": "code",
      "execution_count": null,
      "id": "b52ad7eb-444d-4fc3-ada3-e51aa392b8f2",
      "metadata": {
        "id": "b52ad7eb-444d-4fc3-ada3-e51aa392b8f2"
      },
      "outputs": [],
      "source": [
        "def strategy_backtest(data, params, plot = False, in_sample_end = '', slippage = 0.0005, plot_position = True):\n",
        "    \"\"\"\n",
        "    Strategy backtest calculation\n",
        "\n",
        "    :data: dataframe with log returns\n",
        "    :params: list of strategy parameters\n",
        "    :plot: if True than equity curve is plotted\n",
        "    :in_sample_end: string in format \"%Y-%m-%d\" with timestamp of in_sample_end. Only used on charts\n",
        "    :slippage: slippage per trade\n",
        "    :plot_position: if True than position values is plotted\n",
        "    :return: statistics and equity curve\n",
        "    \"\"\"\n",
        "\n",
        "    # Strategy parameters that we will optimize\n",
        "    period = params[0]\n",
        "    open_treshold = params[1]\n",
        "    close_treshold = params[1]*params[2]\n",
        "\n",
        "    period2 = params[3]\n",
        "\n",
        "    pos_limit =  params[4]\n",
        "\n",
        "    # Calculation of target position:\n",
        "    features = pd.DataFrame(index = data.index)\n",
        "    features['spread'] = data['log_ret'].cumsum()\n",
        "\n",
        "    features['spread_mean'] = features['spread'].ewm(period).mean()\n",
        "    features['spread_std'] =  np.abs(features['spread'] - features['spread_mean']).ewm(period).mean()\n",
        "    features['z_score'] = ((features['spread'] - features['spread_mean'])/features['spread_std']).fillna(0)\n",
        "    features['position'] = 5*(-features['z_score']).ewm(period2).mean()\n",
        "\n",
        "    features['position'] = features['position'].shift(1).fillna(0).astype(int)\n",
        "\n",
        "    # Maximum position limit\n",
        "    features.loc[features.index[features['position']>pos_limit], 'position'] = pos_limit\n",
        "    features.loc[features.index[features['position']<-pos_limit], 'position'] = -pos_limit\n",
        "\n",
        "    # We calculate the equity curve and convert it to a daily timeframe to calculate basic statistics\n",
        "    eq = (data['log_ret']*features['position']-slippage*features['position'].diff().abs()\n",
        "         ).fillna(0).resample('1D').agg('sum')\n",
        "    bh = data['log_ret'].fillna(0).resample('1D').agg('sum')\n",
        "\n",
        "    turnover = features['position'].diff().abs().sum()\n",
        "\n",
        "    # We calculate statistics and save the result\n",
        "    stats = statistics_calc(eq, bh, name = \"{0}_{1}_{2}\".format(period, open_treshold, close_treshold), plot = plot)\n",
        "\n",
        "    # Draw a graph of position changes, if necessary\n",
        "    if (plot) and (plot_position):\n",
        "\n",
        "        if in_sample_end != '':\n",
        "            plt.axvline(x = datetime.datetime.strptime(in_sample_end, \"%Y-%m-%d\").date(), color = 'red')\n",
        "\n",
        "        period_to_plot = 500\n",
        "        plt.figure(figsize = (10, 4))\n",
        "        plt.plot(features['spread'][-period_to_plot:], label = 'Spread value')\n",
        "        plt.plot(features['spread_mean'][-period_to_plot:], color = 'tab:orange')\n",
        "        plt.plot((features['spread_mean']+features['spread_std'])[-period_to_plot:], color = 'tab:orange', label = 'Moving average and Std range')\n",
        "        plt.plot((features['spread_mean']-features['spread_std'])[-period_to_plot:], color = 'tab:orange')\n",
        "        plt.legend()\n",
        "\n",
        "        plt.figure()\n",
        "        plt.figure(figsize = (10, 4))\n",
        "        plt.plot(features['z_score'].ewm(period2).mean()[-period_to_plot:], label = 'z-score')\n",
        "\n",
        "        position_to_plot = features['position'][-period_to_plot:]\n",
        "        plt.plot(position_to_plot, label = 'position')\n",
        "        plt.xlabel('t')\n",
        "        plt.legend()\n",
        "\n",
        "    return stats, eq, turnover"
      ]
    },
    {
      "cell_type": "code",
      "execution_count": null,
      "id": "8562b8d1-224a-4c09-b2b6-67e804c2bb60",
      "metadata": {
        "id": "8562b8d1-224a-4c09-b2b6-67e804c2bb60"
      },
      "outputs": [],
      "source": [
        "def opt_backtest(train, params):\n",
        "    stats_current, *_ = strategy_backtest(train, params)\n",
        "    return stats_current['Sharpe ratio'].iloc[0]"
      ]
    },
    {
      "cell_type": "code",
      "execution_count": null,
      "id": "64ac2bc4-1b02-437c-8421-c7155dc545b2",
      "metadata": {
        "id": "64ac2bc4-1b02-437c-8421-c7155dc545b2"
      },
      "outputs": [],
      "source": [
        "def objective(trial):\n",
        "\n",
        "    period = trial.suggest_int(\"period\", 5, 5000, log = True)\n",
        "    open_treshold = trial.suggest_float(\"open_treshold\", 1.0, 3.0)\n",
        "    close_treshold = trial.suggest_float(\"close_treshold\", 0.0005, 0.8)\n",
        "    period2 = trial.suggest_int(\"period2\", 5, 2000, log = True)\n",
        "\n",
        "    pos_limit = trial.suggest_int(\"pos_limit\", 1, 5)\n",
        "\n",
        "    beta = trial.suggest_float(\"beta\", 0.02, 5.0, log = True)\n",
        "\n",
        "    data = (data1-beta*data2).dropna()\n",
        "\n",
        "    in_sample_start = '2016-01-01'\n",
        "    in_sample_end = '2023-01-01'\n",
        "\n",
        "    train = data[in_sample_start:in_sample_end]\n",
        "\n",
        "    obj_value = opt_backtest(train, [period, open_treshold, close_treshold, period2, pos_limit])\n",
        "\n",
        "    if np.isnan(obj_value):\n",
        "        obj_value = 0\n",
        "\n",
        "    return obj_value"
      ]
    },
    {
      "cell_type": "code",
      "execution_count": null,
      "id": "23385fe8-7e03-4098-9058-5578bb6062a9",
      "metadata": {
        "id": "23385fe8-7e03-4098-9058-5578bb6062a9"
      },
      "outputs": [],
      "source": [
        "study = optuna.create_study(direction = 'maximize')\n",
        "study.optimize(objective, n_trials = 500, show_progress_bar = True)\n",
        "params = list(study.best_params.values())\n",
        "\n",
        "data = (data1-study.best_params['beta']*data2).dropna()\n",
        "in_sample_start = '2016-01-01'\n",
        "in_sample_end = '2023-01-01'\n",
        "\n",
        "train = data[in_sample_start:in_sample_end]\n",
        "test = data[in_sample_start:]\n",
        "stats, eq, _ = strategy_backtest(test, params, True, in_sample_end)\n"
      ]
    },
    {
      "cell_type": "markdown",
      "id": "d7308744-b370-4854-99a8-2c2c47a67aeb",
      "metadata": {
        "id": "d7308744-b370-4854-99a8-2c2c47a67aeb"
      },
      "source": [
        "Additional exercises and research topics:\n",
        "\n",
        "1. Develop and test your own statistical arbitrage strategy (you can use any instruments combinations, including creating them dynamically)"
      ]
    },
    {
      "cell_type": "code",
      "execution_count": null,
      "id": "41cbfe6b-d779-4da4-8b7e-67ed9459d5c2",
      "metadata": {
        "id": "41cbfe6b-d779-4da4-8b7e-67ed9459d5c2"
      },
      "outputs": [],
      "source": []
    }
  ],
  "metadata": {
    "kernelspec": {
      "display_name": "Python 3 (ipykernel)",
      "language": "python",
      "name": "python3"
    },
    "language_info": {
      "codemirror_mode": {
        "name": "ipython",
        "version": 3
      },
      "file_extension": ".py",
      "mimetype": "text/x-python",
      "name": "python",
      "nbconvert_exporter": "python",
      "pygments_lexer": "ipython3",
      "version": "3.11.7"
    },
    "colab": {
      "provenance": []
    }
  },
  "nbformat": 4,
  "nbformat_minor": 5
}