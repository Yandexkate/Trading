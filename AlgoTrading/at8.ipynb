{
  "cells": [
    {
      "cell_type": "code",
      "execution_count": null,
      "id": "830afd55-eef6-4bdc-bbb6-e9ab96a85ef4",
      "metadata": {
        "id": "830afd55-eef6-4bdc-bbb6-e9ab96a85ef4"
      },
      "outputs": [],
      "source": [
        "import pandas as pd\n",
        "import numpy as np\n",
        "import matplotlib.pyplot as plt\n",
        "import datetime\n",
        "import optuna\n",
        "from tqdm.notebook import trange\n",
        "optuna.logging.set_verbosity(optuna.logging.WARNING)"
      ]
    },
    {
      "cell_type": "code",
      "execution_count": null,
      "id": "f78299fb-be9d-45da-83d9-08b13febac66",
      "metadata": {
        "id": "f78299fb-be9d-45da-83d9-08b13febac66"
      },
      "outputs": [],
      "source": [
        "def read_data(ticker, offset = '0min'):\n",
        "    \"\"\"\n",
        "    Read logarithmic returns from file\n",
        "\n",
        "    :ticker: ticker of continious futures\n",
        "    \"\"\"\n",
        "    # You need to insert the path to the data file\n",
        "    data_folder = './'\n",
        "    #All datasets for this course are available at this link:\n",
        "    #https://drive.google.com/drive/folders/1mhbVjuwNZGX9nmZuCxJStBmraF3HIzio?usp=sharing\n",
        "\n",
        "    if offset == '0min':\n",
        "        data = pd.read_csv(data_folder+ticker+'.csv', index_col = 'date')\n",
        "    else:\n",
        "        data = pd.read_csv(data_folder+ticker+'_offset_'+offset+'.csv', index_col = 'date')\n",
        "\n",
        "    # Parse timestamps\n",
        "    data.index = pd.to_datetime(data.index, format = \"%Y-%m-%d %H:%M:%S\")\n",
        "\n",
        "    return data"
      ]
    },
    {
      "cell_type": "markdown",
      "id": "f0238a87-ecf1-40fc-8c9f-440de6af6c48",
      "metadata": {
        "id": "f0238a87-ecf1-40fc-8c9f-440de6af6c48"
      },
      "source": [
        "Functions for calculating standard statistics on the daily equity curve:"
      ]
    },
    {
      "cell_type": "code",
      "execution_count": null,
      "id": "e1158fcd-78d5-48e4-bf98-bdc81bcf0c54",
      "metadata": {
        "id": "e1158fcd-78d5-48e4-bf98-bdc81bcf0c54"
      },
      "outputs": [],
      "source": [
        "days_in_year = 365.25\n",
        "\n",
        "def Return(rets):\n",
        "    \"\"\"\n",
        "    Annual return estimate\n",
        "\n",
        "    :rets: daily returns of the strategy\n",
        "    \"\"\"\n",
        "    return np.mean(rets)*days_in_year\n",
        "\n",
        "\n",
        "def Volatility(rets):\n",
        "    \"\"\"\n",
        "    Estimation of annual volatility\n",
        "\n",
        "    :rets: daily returns of the strategy\n",
        "    \"\"\"\n",
        "    return np.std(rets)*np.sqrt(days_in_year)\n",
        "\n",
        "\n",
        "def SharpeRatio(rets):\n",
        "    \"\"\"\n",
        "    Estimating the annual Sharpe ratio\n",
        "\n",
        "    :rets: daily returns of the strategy\n",
        "    \"\"\"\n",
        "    volatility = Volatility(rets)\n",
        "    if (volatility>0):\n",
        "        return Return(rets)/volatility\n",
        "    else:\n",
        "        return float('NaN')\n",
        "\n",
        "def statistics_calc(rets, bh, name = '_', plot = False):\n",
        "    \"\"\"\n",
        "    Draws a graph of portfolio equity and calculates annual Sharpe ratios, profitability and volatility\n",
        "\n",
        "    :rets: daily returns of the strategy\n",
        "    \"\"\"\n",
        "    sharpe = SharpeRatio(rets)\n",
        "    ret = Return(rets)\n",
        "    vol = Volatility(rets)\n",
        "    if plot:\n",
        "        plt.plot(rets.cumsum(), label = 'strategy')\n",
        "        plt.xlabel('t')\n",
        "    return  pd.DataFrame([[sharpe, ret, vol]], columns = ['Sharpe ratio', 'Annual return', 'Volatility'], index = [name])"
      ]
    },
    {
      "cell_type": "code",
      "execution_count": null,
      "id": "b52ad7eb-444d-4fc3-ada3-e51aa392b8f2",
      "metadata": {
        "id": "b52ad7eb-444d-4fc3-ada3-e51aa392b8f2"
      },
      "outputs": [],
      "source": [
        "def strategy_backtest(data, params, plot = False, in_sample_end = '', slippage = 0.00001, plot_position = True):\n",
        "    \"\"\"\n",
        "    Strategy backtest calculation\n",
        "    Example call:\n",
        "    strategy_bactest(test, [period, scale])\n",
        "\n",
        "    :data: dataframe with log returns\n",
        "    :params: list of strategy parameters\n",
        "    :plot: if True than equity curve is plotted\n",
        "    :in_sample_end: string in format \"%Y-%m-%d\" with timestamp of in_sample_end. Only used on charts\n",
        "    :slippage: slippage per trade\n",
        "    :return: statistics and equity curve\n",
        "    \"\"\"\n",
        "\n",
        "    # Strategy parameters that we will optimize\n",
        "    period = params[0]\n",
        "    scale = params[1]\n",
        "\n",
        "    signal_vol_period = params[2]\n",
        "    vol_period_1 = params[3]\n",
        "    vol_period_2 = params[4]\n",
        "    pos_limit = params[5]\n",
        "    reverse = params[6]\n",
        "\n",
        "    # Calculation of target position:\n",
        "\n",
        "    features = pd.DataFrame(index = data.index)\n",
        "\n",
        "    # We calculate the exponential moving average of increments:\n",
        "    features['signal'] = data['log_ret'].ewm(period).mean()\n",
        "\n",
        "    # Estimating signal volatility using exponential moving average\n",
        "    features['absSignal'] = np.abs(features['signal']).shift(1)\n",
        "    features['signal_vol'] = features['absSignal'].ewm(signal_vol_period).mean()+0.000000001\n",
        "\n",
        "    # Estimating asset volatility using double exponential moving average:\n",
        "    features['absRet'] = np.abs(data['log_ret'])\n",
        "    features['EmaAbsRet'] = features['absRet'].ewm(vol_period_1).mean().shift(1)*np.sqrt(vol_period_1)\n",
        "    features['vol'] = features['EmaAbsRet'].ewm(vol_period_2).mean()*np.sqrt(vol_period_2)+0.000000001\n",
        "\n",
        "    features['position'] = ((features['signal']/features['signal_vol']/features['vol']*scale).shift(1)).fillna(0).astype(int)\n",
        "\n",
        "    # We remove looking into the future\n",
        "    # (we cannot execute the order at the same price at which the signal was calculated. We need to take the price of the next bar)\n",
        "    features['position'] = features['position'].shift(1)\n",
        "\n",
        "    # We trade whole lots\n",
        "    features['position'] = features['position'].fillna(0).astype(int)\n",
        "\n",
        "    # Maximum position limit\n",
        "    features.loc[features.index[features['position']>pos_limit], 'position'] = pos_limit\n",
        "    features.loc[features.index[features['position']<-pos_limit], 'position'] = -pos_limit\n",
        "\n",
        "    if reverse:\n",
        "        features['position'] = -features['position']\n",
        "\n",
        "    # We calculate the equity curve and convert it to a daily timeframe to calculate basic statistics\n",
        "    eq = (data['log_ret']*features['position']-slippage*features['position'].diff().abs()\n",
        "         ).fillna(0).resample('1D').agg('sum')\n",
        "    bh = data['log_ret'].fillna(0).resample('1D').agg('sum')\n",
        "\n",
        "    # We calculate statistics and save the result\n",
        "    stats = statistics_calc(eq, bh, name = \"{0}_{1}\".format(period, scale), plot = plot)\n",
        "    stats['period'] = period\n",
        "    stats['scale'] = scale\n",
        "\n",
        "    # Draw a graph of position changes, if necessary\n",
        "    if (plot) and (plot_position):\n",
        "        if in_sample_end  != '':\n",
        "            plt.axvline(x = datetime.datetime.strptime(in_sample_end, \"%Y-%m-%d\").date(), color = 'red')\n",
        "        plt.figure()\n",
        "        position_to_plot = features['position'][-100000:]\n",
        "        plt.plot(np.arange(len(position_to_plot)), position_to_plot)\n",
        "        plt.title('position')\n",
        "        plt.xlabel('t')\n",
        "\n",
        "    return stats, eq"
      ]
    },
    {
      "cell_type": "code",
      "execution_count": null,
      "id": "e73b45a9",
      "metadata": {
        "id": "e73b45a9"
      },
      "outputs": [],
      "source": [
        "in_sample_start = '2018-01-01'\n",
        "in_sample_end = '2022-01-01'\n",
        "\n",
        "data = read_data('NQ')\n",
        "train = data[in_sample_start:in_sample_end]\n",
        "test = data[in_sample_start:] # We intentionally included all the data in the test along with the training set to build a single equity curve"
      ]
    },
    {
      "cell_type": "code",
      "execution_count": null,
      "id": "8562b8d1-224a-4c09-b2b6-67e804c2bb60",
      "metadata": {
        "id": "8562b8d1-224a-4c09-b2b6-67e804c2bb60"
      },
      "outputs": [],
      "source": [
        "def opt_backtest(period, scale, signal_vol_period, vol_period_1, vol_period_2, pos_limit, reverse):\n",
        "    stats_current, _ = strategy_backtest(train, [period, scale, signal_vol_period, vol_period_1, vol_period_2, pos_limit, reverse])\n",
        "    return stats_current['Sharpe ratio'].iloc[0]"
      ]
    },
    {
      "cell_type": "code",
      "execution_count": null,
      "id": "64ac2bc4-1b02-437c-8421-c7155dc545b2",
      "metadata": {
        "id": "64ac2bc4-1b02-437c-8421-c7155dc545b2"
      },
      "outputs": [],
      "source": [
        "def objective(trial):\n",
        "\n",
        "    period = trial.suggest_int(\"period\", 10, 4000, log = True)\n",
        "    scale = trial.suggest_float(\"scale\", 0.001, 1.0, log = True)\n",
        "\n",
        "\n",
        "    signal_vol_period = trial.suggest_int(\"signal_vol_period\", 10, 2000, log = True)\n",
        "    vol_period_1 = trial.suggest_int(\"vol_period_1\", 10, 2000, log = True)\n",
        "    vol_period_2 = trial.suggest_int(\"vol_period_2\", 10, 2000, log = True)\n",
        "    pos_limit = trial.suggest_int(\"pos_limit\", 1, 6, log = True)\n",
        "\n",
        "    reverse = trial.suggest_categorical(\"reverse\", [True, False])\n",
        "\n",
        "    obj_value = opt_backtest(period, scale, signal_vol_period, vol_period_1, vol_period_2, pos_limit, reverse)\n",
        "\n",
        "    if np.isnan(obj_value):\n",
        "        obj_value = 0\n",
        "\n",
        "    return obj_value"
      ]
    },
    {
      "cell_type": "code",
      "execution_count": null,
      "id": "23385fe8-7e03-4098-9058-5578bb6062a9",
      "metadata": {
        "id": "23385fe8-7e03-4098-9058-5578bb6062a9"
      },
      "outputs": [],
      "source": [
        "study = optuna.create_study(direction = 'maximize')\n",
        "study.optimize(objective, n_trials = 1000, show_progress_bar = True, n_jobs = 1)\n",
        "stats, eq = strategy_backtest(test, list(study.best_params.values()), True, in_sample_end)\n"
      ]
    },
    {
      "cell_type": "code",
      "execution_count": null,
      "id": "7b8a4532-c094-4f07-9c31-94cb9d80efff",
      "metadata": {
        "id": "7b8a4532-c094-4f07-9c31-94cb9d80efff"
      },
      "outputs": [],
      "source": [
        "for i in trange(7):\n",
        "    optimal_params = list(study.best_params.values())\n",
        "    optimal_param_value = optimal_params[i]\n",
        "    if (i != 1) and (i != 6):\n",
        "        perturbated_param_values = np.unique((np.linspace(0.95*optimal_param_value, 1.05*optimal_param_value, 1000)).astype(int))\n",
        "    if (i == 1):\n",
        "        perturbated_param_values = ((np.linspace(0.95*optimal_param_value, 1.05*optimal_param_value, 1000)))\n",
        "    if (i == 6):\n",
        "        perturbated_param_values = [True, False]\n",
        "\n",
        "    stats = pd.DataFrame()\n",
        "    test_params = optimal_params\n",
        "    for perturbated_param in (perturbated_param_values):\n",
        "        test_params[i] = perturbated_param\n",
        "        stats_current, _ = strategy_backtest(test, test_params, False, in_sample_end)\n",
        "        stats_current.index = [str(perturbated_param)]\n",
        "        if stats.shape[0] == 0:\n",
        "            stats = stats_current\n",
        "        else:\n",
        "            stats = pd.concat([stats, stats_current])\n",
        "\n",
        "    plt.figure()\n",
        "    plt.hist(stats['Sharpe ratio'], bins = 100, density = True)"
      ]
    },
    {
      "cell_type": "code",
      "execution_count": null,
      "id": "f8ca546c-19cb-4fb9-8145-fdea2929fe17",
      "metadata": {
        "id": "f8ca546c-19cb-4fb9-8145-fdea2929fe17"
      },
      "outputs": [],
      "source": [
        "tickers = ['BTC', 'ES', 'ETH', 'EU', 'GC', 'JY', 'NQ', 'YM']\n",
        "offset_stats = pd.DataFrame(columns = ['Sharpe ratio', 'Mean(Sharpe ratio)', 'Std(Sharpe ratio)', 'Min(Sharpe ratio)'], index = tickers)\n",
        "\n",
        "offset_stats_os = pd.DataFrame(columns = ['Sharpe ratio', 'Mean(Sharpe ratio)', 'Std(Sharpe ratio)', 'Min(Sharpe ratio)'], index = tickers)\n",
        "\n",
        "for ticker in tickers:\n",
        "\n",
        "    data = read_data(ticker)\n",
        "    train = data[in_sample_start:in_sample_end]\n",
        "    test = data[in_sample_start:] # We intentionally included all the data in the test along with the training set to build a single equity curve\n",
        "\n",
        "    study = optuna.create_study(direction = 'maximize')\n",
        "    study.optimize(objective, n_trials = 1000, show_progress_bar = True, n_jobs = 1)\n",
        "\n",
        "    optimal_params = list(study.best_params.values())\n",
        "\n",
        "    offsets = ['0min', '1min', '2min', '3min', '4min']\n",
        "    stats = pd.DataFrame()\n",
        "    for offset in offsets:\n",
        "        data_off = read_data(ticker, offset)\n",
        "\n",
        "        stats_current, _ = strategy_backtest(data_off, optimal_params, False, plot_position = False)\n",
        "        stats_current.index = [offset]\n",
        "        if stats.shape[0] == 0:\n",
        "            stats = stats_current\n",
        "        else:\n",
        "            stats = pd.concat([stats, stats_current])\n",
        "\n",
        "    offset_stats.loc[ticker, :] = [stats['Sharpe ratio'].iloc[0], stats['Sharpe ratio'].mean(), stats['Sharpe ratio'].std(), stats['Sharpe ratio'].min()]\n",
        "\n",
        "\n",
        "    stats_os = pd.DataFrame()\n",
        "    for offset in offsets:\n",
        "        data_off = read_data(ticker, offset)\n",
        "\n",
        "        stats_current, _ = strategy_backtest(data_off[in_sample_end:], optimal_params, False, plot_position = False)\n",
        "        stats_current.index = [offset]\n",
        "        if stats_os.shape[0] == 0:\n",
        "            stats_os = stats_current\n",
        "        else:\n",
        "            stats_os = pd.concat([stats_os, stats_current])\n",
        "\n",
        "    offset_stats_os.loc[ticker, :] = [stats_os['Sharpe ratio'].iloc[0], stats_os['Sharpe ratio'].mean(), stats_os['Sharpe ratio'].std(), stats_os['Sharpe ratio'].min()]\n"
      ]
    },
    {
      "cell_type": "code",
      "execution_count": null,
      "id": "56d509dd-65a8-4a75-bfe4-1e51abbb2023",
      "metadata": {
        "id": "56d509dd-65a8-4a75-bfe4-1e51abbb2023"
      },
      "outputs": [],
      "source": [
        "offset_stats"
      ]
    },
    {
      "cell_type": "code",
      "execution_count": null,
      "id": "49bfa883-fb01-49e1-8936-7427f21f4f97",
      "metadata": {
        "id": "49bfa883-fb01-49e1-8936-7427f21f4f97"
      },
      "outputs": [],
      "source": [
        "offset_stats_os"
      ]
    },
    {
      "cell_type": "code",
      "execution_count": null,
      "id": "0c2d241d-b26e-42e9-8284-7aa816bc4e7e",
      "metadata": {
        "id": "0c2d241d-b26e-42e9-8284-7aa816bc4e7e"
      },
      "outputs": [],
      "source": [
        "plt.rc('axes', axisbelow = True)\n",
        "plt.grid()\n",
        "plt.bar(offset_stats.index, offset_stats['Sharpe ratio'], width = 0.2)\n",
        "\n",
        "plt.errorbar(offset_stats.index, offset_stats['Mean(Sharpe ratio)'], yerr = offset_stats['Std(Sharpe ratio)'], fmt = 'o', color = 'tab:orange')"
      ]
    },
    {
      "cell_type": "code",
      "execution_count": null,
      "id": "96c34315-413f-4057-ac52-87b6d550fe22",
      "metadata": {
        "id": "96c34315-413f-4057-ac52-87b6d550fe22"
      },
      "outputs": [],
      "source": [
        "plt.rc('axes', axisbelow = True)\n",
        "plt.grid()\n",
        "plt.bar(offset_stats_os.index, offset_stats_os['Sharpe ratio'], width = 0.2)\n",
        "\n",
        "plt.errorbar(offset_stats_os.index, offset_stats_os['Mean(Sharpe ratio)'], yerr = offset_stats_os['Std(Sharpe ratio)'], fmt = 'o', color = 'tab:orange')"
      ]
    }
  ],
  "metadata": {
    "kernelspec": {
      "display_name": "Python 3 (ipykernel)",
      "language": "python",
      "name": "python3"
    },
    "language_info": {
      "codemirror_mode": {
        "name": "ipython",
        "version": 3
      },
      "file_extension": ".py",
      "mimetype": "text/x-python",
      "name": "python",
      "nbconvert_exporter": "python",
      "pygments_lexer": "ipython3",
      "version": "3.10.6"
    },
    "colab": {
      "provenance": []
    }
  },
  "nbformat": 4,
  "nbformat_minor": 5
}